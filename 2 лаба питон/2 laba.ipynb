{
 "cells": [
  {
   "cell_type": "code",
   "execution_count": 1,
   "id": "f4916bf2",
   "metadata": {},
   "outputs": [
    {
     "name": "stdout",
     "output_type": "stream",
     "text": [
      "Введите слово: человек\n",
      "члвк\n"
     ]
    }
   ],
   "source": [
    "#Дано слово s1 Получить слово s2 образованное нечетными буквами слова s1\n",
    "s = input(\"Введите слово: \")\n",
    "print(s[::2])"
   ]
  },
  {
   "cell_type": "code",
   "execution_count": 5,
   "id": "d381de95",
   "metadata": {},
   "outputs": [
    {
     "name": "stdout",
     "output_type": "stream",
     "text": [
      "Введите слово: Максим ивт181\n",
      "2\n"
     ]
    }
   ],
   "source": [
    "#Дан текст. Определить количество букв и в первом предложении. \n",
    "#Рассмотреть два случая:\n",
    "#1)известно, что буквы и в этом предложении есть;\n",
    "#2)букв и в тексте может не быть.\n",
    "s = input(\"Введите слово: \")\n",
    "print((s).count(\"и\"))\n"
   ]
  },
  {
   "cell_type": "code",
   "execution_count": 10,
   "id": "4fe0bdea",
   "metadata": {},
   "outputs": [
    {
     "name": "stdout",
     "output_type": "stream",
     "text": [
      "1+2+3\n",
      "6\n"
     ]
    }
   ],
   "source": [
    "#Дана строка, в которой без пробелов записано арифметическое выражение в\n",
    "#виде суммы трех натуральных чисел, sнапример «1+25+3». Вычислить эту сумму.\n",
    "print(sum(map(int, input().split('+'))))\n"
   ]
  },
  {
   "cell_type": "code",
   "execution_count": 7,
   "id": "bdbadeb3",
   "metadata": {},
   "outputs": [
    {
     "name": "stdout",
     "output_type": "stream",
     "text": [
      "Введите слово: двенадцать\n",
      "8\n"
     ]
    }
   ],
   "source": [
    "#Дано слово. Определить, сколько различных букв в нем.\n",
    "s = input(\"Введите слово: \")\n",
    "print(len(set(s)))"
   ]
  },
  {
   "cell_type": "code",
   "execution_count": null,
   "id": "7e3c2c25",
   "metadata": {},
   "outputs": [],
   "source": []
  },
  {
   "cell_type": "code",
   "execution_count": null,
   "id": "cc0ddfa9",
   "metadata": {},
   "outputs": [],
   "source": []
  },
  {
   "cell_type": "code",
   "execution_count": null,
   "id": "47c40a2a",
   "metadata": {},
   "outputs": [],
   "source": []
  },
  {
   "cell_type": "code",
   "execution_count": null,
   "id": "ba5557b3",
   "metadata": {},
   "outputs": [],
   "source": []
  },
  {
   "cell_type": "code",
   "execution_count": null,
   "id": "70fb9ced",
   "metadata": {},
   "outputs": [],
   "source": []
  }
 ],
 "metadata": {
  "kernelspec": {
   "display_name": "Python 3 (ipykernel)",
   "language": "python",
   "name": "python3"
  },
  "language_info": {
   "codemirror_mode": {
    "name": "ipython",
    "version": 3
   },
   "file_extension": ".py",
   "mimetype": "text/x-python",
   "name": "python",
   "nbconvert_exporter": "python",
   "pygments_lexer": "ipython3",
   "version": "3.9.7"
  }
 },
 "nbformat": 4,
 "nbformat_minor": 5
}
