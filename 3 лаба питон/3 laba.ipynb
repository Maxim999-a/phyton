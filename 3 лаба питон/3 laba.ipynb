{
 "cells": [
  {
   "cell_type": "code",
   "execution_count": 1,
   "metadata": {},
   "outputs": [
    {
     "name": "stdout",
     "output_type": "stream",
     "text": [
      "3 4 5 6 2 1 6 7\n",
      "[3, 4, 5, 6, 2, 7, 6, 1]\n"
     ]
    }
   ],
   "source": [
    "#Ввести список А из 10 элементов, найти наименьший элементи переставить \n",
    "#его с последним элементом. Преобразованный список вывести.\n",
    "import sys\n",
    "listt=list(map(int,input().split()))\n",
    "i_min=listt.index(min(listt))\n",
    "listt[-1], listt[i_min] = listt[i_min], listt[-1]\n",
    "print(listt)\n"
   ]
  },
  {
   "cell_type": "code",
   "execution_count": 4,
   "metadata": {
    "scrolled": true
   },
   "outputs": [
    {
     "name": "stdout",
     "output_type": "stream",
     "text": [
      "1 0 -2 -6 3 6 3 3 2 0 4 5 6\n",
      "произведение элементов списка с четными номерами; -864\n",
      "Сумма между элементами списка, расположенных между первым и последним нулевыми элементами : 9\n",
      " список сначала  все положительные элементы, а потом - все отрицательные [6, 6, 5, 4, 3, 3, 3, 2, 1, 0, 0, -2, -6]\n"
     ]
    }
   ],
   "source": [
    "#В списке, состоящем из целых элементов, вычислить:\n",
    "#1. произведение элементов списка с четными номерами;\n",
    "#2. сумму элементов списка, расположенных между первым и последним\n",
    "#нулевыми элементами.\n",
    "#Преобразовать список таким образом, чтобы сначала располагались \n",
    "#все положительные элементы, а потом - все отрицательные \n",
    "#(элементы, равные 0, считать положительными). \n",
    "\n",
    "import sys\n",
    "listt=list(map(int,input().split()))\n",
    "a=1\n",
    "\n",
    "kon=0\n",
    "for i in range (len(listt)):\n",
    "    if i%2==0:\n",
    "        a*=listt[i]\n",
    "    \n",
    "    if listt[i] ==0:\n",
    "        kon=i\n",
    "\n",
    "#print(listt.index(0))\n",
    "#print(kon)\n",
    "print(f'произведение элементов списка с четными номерами; { a}')\n",
    "print(f'Сумма между элементами списка, расположенных между первым и последним нулевыми элементами : {sum(listt[i] for i in range(listt.index(0), kon + 1))}' )\n",
    "listt.sort(reverse=True)\n",
    "print(f' список сначала  все положительные элементы, а потом - все отрицательные {listt}')"
   ]
  },
  {
   "cell_type": "code",
   "execution_count": null,
   "metadata": {},
   "outputs": [],
   "source": []
  },
  {
   "cell_type": "markdown",
   "metadata": {},
   "source": [
    "## "
   ]
  },
  {
   "cell_type": "code",
   "execution_count": null,
   "metadata": {},
   "outputs": [],
   "source": []
  }
 ],
 "metadata": {
  "kernelspec": {
   "display_name": "Python 3 (ipykernel)",
   "language": "python",
   "name": "python3"
  },
  "language_info": {
   "codemirror_mode": {
    "name": "ipython",
    "version": 3
   },
   "file_extension": ".py",
   "mimetype": "text/x-python",
   "name": "python",
   "nbconvert_exporter": "python",
   "pygments_lexer": "ipython3",
   "version": "3.9.7"
  }
 },
 "nbformat": 4,
 "nbformat_minor": 4
}
