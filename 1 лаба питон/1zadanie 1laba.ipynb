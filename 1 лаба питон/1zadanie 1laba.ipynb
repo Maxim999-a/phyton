{
 "cells": [
  {
   "cell_type": "code",
   "execution_count": 13,
   "id": "8a1e8769",
   "metadata": {},
   "outputs": [
    {
     "name": "stdout",
     "output_type": "stream",
     "text": [
      "Введите день не дели в цифре:3\n",
      "Среда\n"
     ]
    }
   ],
   "source": [
    "#Дано число ( ). Вывести на экран название дня недели, который \n",
    "#соответствует этому номеру.\n",
    "Den = int(input('Введите день недели в цифре: '))\n",
    "if Den == 1:\n",
    "    print('Понедельник')\n",
    "elif Den == 2:\n",
    "    print('Вторник')\n",
    "elif Den == 3:\n",
    "    print('Среда')\n",
    "elif Den == 4:\n",
    "    print('Четверг')\n",
    "elif Den == 5:\n",
    "    print('Пятница')\n",
    "elif Den == 6:\n",
    "    print('Суббота')\n",
    "elif Den == 7:\n",
    "    print('Воскресенье')\n",
    "else:\n",
    "    print('Ошибка')\n",
    "    "
   ]
  },
  {
   "cell_type": "code",
   "execution_count": 5,
   "id": "1bcf24f0",
   "metadata": {},
   "outputs": [
    {
     "name": "stdout",
     "output_type": "stream",
     "text": [
      "Введите число::-2\n",
      "Введите число b:-7\n",
      "Введите число c:9\n",
      "-7\n",
      "9\n"
     ]
    }
   ],
   "source": [
    "#Из трех действительных чисел , и выбрать те, модули которых не меньше 4.\n",
    "    import sys\n",
    "    import math\n",
    "    first = int(input(\"Введите число a: \"))\n",
    "    second = int(input(\"Введите число b: \"))\n",
    "    thr = int(input(\"Введите число c: \"))\n",
    "    if math.fabs(first) > 4:\n",
    "        print(first )\n",
    "    if math.fabs(second ) > 4:\n",
    "        print(second)  \n",
    "    if math.fabs(thr ) > 4:\n",
    "        print(thr )\n",
    "\n",
    "    "
   ]
  },
  {
   "cell_type": "code",
   "execution_count": 14,
   "id": "7b647c45",
   "metadata": {
    "scrolled": true
   },
   "outputs": [
    {
     "name": "stdout",
     "output_type": "stream",
     "text": [
      "94.87171000000001\n"
     ]
    }
   ],
   "source": [
    "\n",
    "d = 10\n",
    "s = d\n",
    "\n",
    "for i in range(1,7):\n",
    "    d = d * 1.1\n",
    "    s = s + d\n",
    "\n",
    "print (s)"
   ]
  },
  {
   "cell_type": "code",
   "execution_count": null,
   "id": "375a19a6",
   "metadata": {},
   "outputs": [],
   "source": []
  }
 ],
 "metadata": {
  "kernelspec": {
   "display_name": "Python 3 (ipykernel)",
   "language": "python",
   "name": "python3"
  },
  "language_info": {
   "codemirror_mode": {
    "name": "ipython",
    "version": 3
   },
   "file_extension": ".py",
   "mimetype": "text/x-python",
   "name": "python",
   "nbconvert_exporter": "python",
   "pygments_lexer": "ipython3",
   "version": "3.9.7"
  }
 },
 "nbformat": 4,
 "nbformat_minor": 5
}
